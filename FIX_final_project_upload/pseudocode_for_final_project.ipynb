{
 "cells": [
  {
   "cell_type": "code",
   "execution_count": 1,
   "metadata": {
    "collapsed": false
   },
   "outputs": [
    {
     "name": "stdout",
     "output_type": "stream",
     "text": [
      "What is the species name of Onny's sample? good\n",
      "Tolelot!! Please, try again.\n",
      "What is the species name of Onny's sample? Neotrygon kuhlii\n",
      "Eureka!! Go ahead.\n"
     ]
    }
   ],
   "source": [
    "password = (\"Neotrygon kuhlii\")\n",
    "hello = input(\"What is the species name of Onny's sample? \")\n",
    "while hello != password:\n",
    "    print(\"Tolelot!! Please, try again.\")\n",
    "    hello = input(\"What is the species name of Onny's sample? \")\n",
    "    if hello == password:\n",
    "        print(\"Eureka!! Go ahead.\")"
   ]
  },
  {
   "cell_type": "markdown",
   "metadata": {
    "collapsed": true
   },
   "source": [
    "# Pseudocode for my final project"
   ]
  },
  {
   "cell_type": "code",
   "execution_count": null,
   "metadata": {
    "collapsed": true
   },
   "outputs": [],
   "source": [
    "#I want to use 2 database, which are 1). list of the distribution area of Neotrygon kuhlii, 2). sequence database of N. kuhlii.\n",
    "#Both data come from BOLD System database: http://www.boldsystems.org/index.php/databases\n",
    "\n",
    "for item1 in data1:\n",
    "    #How many countries is the species from?\n",
    "    #Which country does have the highest number of the species?\n",
    "\n",
    "for item2 in data2:\n",
    "    #How much is the percentage of AT_content in every single sequence?\n",
    "    #How much is the percentage of GC_content in every single sequence?\n",
    "    #How is the ratio of AT and GC content in every single sequence?\n",
    "    #Where is the species which has the highest AT_content from?\n",
    "    #Where is the species which has the highest AT_content from?"
   ]
  }
 ],
 "metadata": {
  "anaconda-cloud": {},
  "kernelspec": {
   "display_name": "Python [default]",
   "language": "python",
   "name": "python3"
  },
  "language_info": {
   "codemirror_mode": {
    "name": "ipython",
    "version": 3
   },
   "file_extension": ".py",
   "mimetype": "text/x-python",
   "name": "python",
   "nbconvert_exporter": "python",
   "pygments_lexer": "ipython3",
   "version": "3.5.2"
  }
 },
 "nbformat": 4,
 "nbformat_minor": 2
}
