{
 "cells": [
  {
   "cell_type": "code",
   "execution_count": 1,
   "metadata": {
    "collapsed": false
   },
   "outputs": [
    {
     "name": "stdout",
     "output_type": "stream",
     "text": [
      "What is the species name of Onny's sample? good\n",
      "Tolelot!! Please, try again.\n",
      "What is the species name of Onny's sample? Neotrygon kuhlii\n",
      "Eureka!! Go ahead.\n"
     ]
    }
   ],
   "source": [
    "password = (\"Neotrygon kuhlii\")\n",
    "hello = input(\"What is the species name of Onny's sample? \")\n",
    "while hello != password:\n",
    "    print(\"Tolelot!! Please, try again.\")\n",
    "    hello = input(\"What is the species name of Onny's sample? \")\n",
    "    if hello == password:\n",
    "        print(\"Eureka!! Go ahead.\")"
   ]
  },
  {
   "cell_type": "code",
   "execution_count": null,
   "metadata": {
    "collapsed": true
   },
   "outputs": [],
   "source": []
  }
 ],
 "metadata": {
  "anaconda-cloud": {},
  "kernelspec": {
   "display_name": "Python [default]",
   "language": "python",
   "name": "python3"
  },
  "language_info": {
   "codemirror_mode": {
    "name": "ipython",
    "version": 3
   },
   "file_extension": ".py",
   "mimetype": "text/x-python",
   "name": "python",
   "nbconvert_exporter": "python",
   "pygments_lexer": "ipython3",
   "version": "3.5.2"
  }
 },
 "nbformat": 4,
 "nbformat_minor": 2
}
