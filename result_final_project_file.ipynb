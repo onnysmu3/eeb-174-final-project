{
 "cells": [
  {
   "cell_type": "markdown",
   "metadata": {},
   "source": [
    "## For the items in dataset-1:\n",
    "\n",
    "\t**QUESTIONS #1**:\n",
    "\ta. How many institution did store the species? Show the list of institutions.\n",
    "\tb. And how many speciments are stored in each instituion? Show the list of institutions\n",
    "\tc. Which institution stores the highest number of the species? an\n",
    "\td. How many species are in the database? Show the list of species and the number of speciment record.\n",
    "\te. Make a new .txt file called new_database.txt and save all information above on the new file\n",
    "\n",
    "\t**QUESTION #2**:\n",
    "\tBy using iPython: make a dictionary which contains \"Species_name | Institution_storing | Country | Region\"\n",
    "\n",
    "\t**QUESTION #3**:\n",
    "\tBy using R studio, make a histogram of the species record in each institution."
   ]
  },
  {
   "cell_type": "markdown",
   "metadata": {},
   "source": [
    "#ANSWERS:\n",
    "#QUESTION1:\n",
    "#first, open the file CP_NK_bold.txt\n",
    "#then, use UNIX shell to figure out the answer by following some functions:\n",
    "    #1. cut -f 6 CP_NK_bold.txt | tail -n +2 | sort | uniq | wc -l (4 institutions)\n",
    "    #2. cut -f 6 CP_NK_bold.txt | tail -n +2 | sort | uniq  >> to show the list\n",
    "    #3. cut -f 6 CP_NK_bold.txt | tail -n +2 | sort | uniq -c >> to show the list\n",
    "    #4. >> CSIRO, Australian National Fish Collection - 40 speciments\n",
    "    #5. cut -f 21 CP_NK_bold.txt | tail -n +2 | sort | uniq | wc -l (7 species)\n",
    "    #6. cut -f 21 CP_NK_bold.txt | tail -n +2 | sort | uniq -c >> to show the list\n",
    "    #7. touch new_database.txt\n",
    "    #8. end up the information on the new file"
   ]
  },
  {
   "cell_type": "markdown",
   "metadata": {},
   "source": [
    "#QUESTION2:"
   ]
  },
  {
   "cell_type": "code",
   "execution_count": 3,
   "metadata": {
    "collapsed": false
   },
   "outputs": [
    {
     "name": "stdout",
     "output_type": "stream",
     "text": [
      "{'592538': ['\"Mined from GenBank', ' '], 'Neotrygon picta': ['Biodiversity Institute of Ontario', 'Australia'], '202051': ['\"Mined from GenBank', ' '], 'Neotrygon leylandi': ['Biodiversity Institute of Ontario', 'Australia'], '202049': ['\"CSIRO', ' '], '343007': ['\"Mined from GenBank', ' '], 'Neotrygon kuhlii': ['Central Institute of Fisheries Education', 'W.S.\"'], '179846': ['\"CSIRO', ' '], '180402': ['\"Mined from GenBank', ' '], '203275': ['\"CSIRO', ' ']}\n"
     ]
    }
   ],
   "source": [
    "neotrygon = open(\"/home/eeb177-student/Desktop/eeb-177/eeb-174-final-project/formatted_bold_data.csv\")\n",
    "neotrygon.readline()\n",
    "neotrygon_dict = {}\n",
    "for line in neotrygon:\n",
    "    species = line.split(\",\")[20]\n",
    "    institution = line.split(\",\")[5]\n",
    "    country = line.split (\",\")[37]\n",
    "    values = [institution, country]\n",
    "    neotrygon_dict[species] = values\n",
    "print(neotrygon_dict)"
   ]
  },
  {
   "cell_type": "code",
   "execution_count": 4,
   "metadata": {
    "collapsed": false
   },
   "outputs": [
    {
     "name": "stdout",
     "output_type": "stream",
     "text": [
      "{'Neotrygon picta': ['CSIRO, Australian National Fish Collection', 'Australia'], 'Neotrygon cf. annotata': ['CSIRO, Australian National Fish Collection', 'Indonesia'], 'Neotrygon trigonoides': ['Mined from GenBank, NCBI', 'New Caledonia'], 'Neotrygon leylandi': ['Mined from GenBank, NCBI', 'Australia'], 'Neotrygon ningalooensis': ['Mined from GenBank, NCBI', 'Australia'], 'Neotrygon kuhlii': ['Central Institute of Fisheries Education', 'India'], 'Neotrygon annotata': ['CSIRO, Australian National Fish Collection', 'Australia']}\n"
     ]
    }
   ],
   "source": [
    "neotrygon = open(\"/home/eeb177-student/Desktop/eeb-177/eeb-174-final-project/CP_NK_bold.txt\")\n",
    "neotrygon.readline()\n",
    "neotrygon_dict = {}\n",
    "for line in neotrygon:\n",
    "    species = line.split(\"\\t\")[20]\n",
    "    institution = line.split(\"\\t\")[5]\n",
    "    country = line.split (\"\\t\")[37]\n",
    "    values = [institution, country]\n",
    "    neotrygon_dict[species] = values\n",
    "print(neotrygon_dict)"
   ]
  },
  {
   "cell_type": "code",
   "execution_count": 6,
   "metadata": {
    "collapsed": false
   },
   "outputs": [
    {
     "name": "stdout",
     "output_type": "stream",
     "text": [
      "{'Neotrygon picta': ['CSIRO, Australian National Fish Collection', 'Australia', 'Torres Strait'], 'Neotrygon cf. annotata': ['CSIRO, Australian National Fish Collection', 'Indonesia', 'Java'], 'Neotrygon trigonoides': ['Mined from GenBank, NCBI', 'New Caledonia', ' '], 'Neotrygon leylandi': ['Mined from GenBank, NCBI', 'Australia', ' '], 'Neotrygon ningalooensis': ['Mined from GenBank, NCBI', 'Australia', ' '], 'Neotrygon kuhlii': ['Central Institute of Fisheries Education', 'India', 'VISAKAPATNAM'], 'Neotrygon annotata': ['CSIRO, Australian National Fish Collection', 'Australia', 'Gulf of Carpentaria']}\n"
     ]
    }
   ],
   "source": [
    "neotrygon = open(\"/home/eeb177-student/Desktop/eeb-177/eeb-174-final-project/CP_NK_bold.txt\")\n",
    "neotrygon.readline()\n",
    "neotrygon_dict = {}\n",
    "for line in neotrygon:\n",
    "    species = line.split(\"\\t\")[20]\n",
    "    institution = line.split(\"\\t\")[5]\n",
    "    country = line.split (\"\\t\")[37]\n",
    "    region = line.split (\"\\t\")[39]\n",
    "    values = [institution, country, region]\n",
    "    neotrygon_dict[species] = values\n",
    "print(neotrygon_dict)"
   ]
  },
  {
   "cell_type": "markdown",
   "metadata": {
    "collapsed": true
   },
   "source": [
    "## For items in dataset-2:\n",
    "\n",
    "\t**QUESTIONS**:\n",
    "\ta. How much is the percentage of AT_content in every single sequence?\n",
    "\tb. How much is the percentage of GC_content in every single sequence?\n",
    "\tc. How is the ratio of AT and GC content in every single sequence?\n",
    "\td. Where is the species which has the highest AT_content from?\n",
    "\te. Where is the species which has the highest AT_content from?"
   ]
  },
  {
   "cell_type": "code",
   "execution_count": 18,
   "metadata": {
    "collapsed": false
   },
   "outputs": [
    {
     "ename": "NameError",
     "evalue": "name 'dna_sequence' is not defined",
     "output_type": "error",
     "traceback": [
      "\u001b[0;31m---------------------------------------------------------------------------\u001b[0m",
      "\u001b[0;31mNameError\u001b[0m                                 Traceback (most recent call last)",
      "\u001b[0;32m<ipython-input-18-e8b28ca93416>\u001b[0m in \u001b[0;36m<module>\u001b[0;34m()\u001b[0m\n\u001b[1;32m      2\u001b[0m \u001b[0mdataset2\u001b[0m \u001b[0;34m=\u001b[0m \u001b[0mopen\u001b[0m\u001b[0;34m(\u001b[0m\u001b[0;34m\"/home/eeb177-student/Desktop/eeb-177/eeb-174-final-project/CP_NK_bold_fasta.fas\"\u001b[0m\u001b[0;34m)\u001b[0m\u001b[0;34m\u001b[0m\u001b[0m\n\u001b[1;32m      3\u001b[0m \u001b[0mdataset2\u001b[0m\u001b[0;34m.\u001b[0m\u001b[0mreadline\u001b[0m\u001b[0;34m(\u001b[0m\u001b[0;34m)\u001b[0m\u001b[0;34m\u001b[0m\u001b[0m\n\u001b[0;32m----> 4\u001b[0;31m \u001b[0;32mfor\u001b[0m \u001b[0mitem\u001b[0m \u001b[0;32min\u001b[0m \u001b[0mdna_sequence\u001b[0m\u001b[0;34m:\u001b[0m\u001b[0;34m\u001b[0m\u001b[0m\n\u001b[0m\u001b[1;32m      5\u001b[0m     \u001b[0mtotal_length\u001b[0m \u001b[0;34m=\u001b[0m \u001b[0mlen\u001b[0m\u001b[0;34m(\u001b[0m\u001b[0mdna_sequence\u001b[0m\u001b[0;34m)\u001b[0m\u001b[0;34m\u001b[0m\u001b[0m\n\u001b[1;32m      6\u001b[0m     \u001b[0mA_count\u001b[0m \u001b[0;34m=\u001b[0m \u001b[0mdna\u001b[0m\u001b[0;34m.\u001b[0m\u001b[0mupper\u001b[0m\u001b[0;34m(\u001b[0m\u001b[0;34m)\u001b[0m\u001b[0;34m.\u001b[0m\u001b[0mcount\u001b[0m\u001b[0;34m(\u001b[0m\u001b[0;34m'A'\u001b[0m\u001b[0;34m)\u001b[0m\u001b[0;34m\u001b[0m\u001b[0m\n",
      "\u001b[0;31mNameError\u001b[0m: name 'dna_sequence' is not defined"
     ]
    }
   ],
   "source": [
    "#open dataset-2\n",
    "dataset2 = open(\"/home/eeb177-student/Desktop/eeb-177/eeb-174-final-project/CP_NK_bold_fasta.fas\")\n",
    "dataset2.readline()\n",
    "for item in dna_sequence:\n",
    "    total_length = len(dna_sequence)\n",
    "    A_count = dna.upper().count('A')\n",
    "    T_count = dna.upper().count('T')\n",
    "    AT_content = (A_count + T_count) / total_length"
   ]
  },
  {
   "cell_type": "code",
   "execution_count": 16,
   "metadata": {
    "collapsed": false
   },
   "outputs": [
    {
     "ename": "NameError",
     "evalue": "name 'dna_sequence' is not defined",
     "output_type": "error",
     "traceback": [
      "\u001b[0;31m---------------------------------------------------------------------------\u001b[0m",
      "\u001b[0;31mNameError\u001b[0m                                 Traceback (most recent call last)",
      "\u001b[0;32m<ipython-input-16-1d2882039ad6>\u001b[0m in \u001b[0;36m<module>\u001b[0;34m()\u001b[0m\n\u001b[0;32m----> 1\u001b[0;31m \u001b[0mAT_count\u001b[0m\u001b[0;34m(\u001b[0m\u001b[0mdataset2\u001b[0m\u001b[0;34m)\u001b[0m\u001b[0;34m\u001b[0m\u001b[0m\n\u001b[0m",
      "\u001b[0;32m<ipython-input-15-3111911eeffa>\u001b[0m in \u001b[0;36mAT_count\u001b[0;34m(dna, sig_figs)\u001b[0m\n\u001b[1;32m      3\u001b[0m \u001b[0;31m#define a function:\u001b[0m\u001b[0;34m\u001b[0m\u001b[0;34m\u001b[0m\u001b[0m\n\u001b[1;32m      4\u001b[0m \u001b[0;32mdef\u001b[0m \u001b[0mAT_count\u001b[0m\u001b[0;34m(\u001b[0m\u001b[0mdna\u001b[0m\u001b[0;34m,\u001b[0m \u001b[0msig_figs\u001b[0m \u001b[0;34m=\u001b[0m \u001b[0;36m3\u001b[0m\u001b[0;34m)\u001b[0m\u001b[0;34m:\u001b[0m\u001b[0;34m\u001b[0m\u001b[0m\n\u001b[0;32m----> 5\u001b[0;31m     \u001b[0;32mfor\u001b[0m \u001b[0mitem\u001b[0m \u001b[0;32min\u001b[0m \u001b[0mdna_sequence\u001b[0m\u001b[0;34m:\u001b[0m\u001b[0;34m\u001b[0m\u001b[0m\n\u001b[0m\u001b[1;32m      6\u001b[0m         \u001b[0mtotal_length\u001b[0m \u001b[0;34m=\u001b[0m \u001b[0mlen\u001b[0m\u001b[0;34m(\u001b[0m\u001b[0mdna_sequence\u001b[0m\u001b[0;34m)\u001b[0m\u001b[0;34m\u001b[0m\u001b[0m\n\u001b[1;32m      7\u001b[0m         \u001b[0mA_count\u001b[0m \u001b[0;34m=\u001b[0m \u001b[0mdna\u001b[0m\u001b[0;34m.\u001b[0m\u001b[0mupper\u001b[0m\u001b[0;34m(\u001b[0m\u001b[0;34m)\u001b[0m\u001b[0;34m.\u001b[0m\u001b[0mcount\u001b[0m\u001b[0;34m(\u001b[0m\u001b[0;34m'A'\u001b[0m\u001b[0;34m)\u001b[0m\u001b[0;34m\u001b[0m\u001b[0m\n",
      "\u001b[0;31mNameError\u001b[0m: name 'dna_sequence' is not defined"
     ]
    }
   ],
   "source": [
    "AT_count(dataset2)"
   ]
  },
  {
   "cell_type": "markdown",
   "metadata": {},
   "source": [
    "#1. dataset2 = open(\"/home/eeb177-student/Desktop/eeb-177/eeb-174-final-project/CP_NK_bold_fasta.fas\")\n",
    "    #2. define a function:\n",
    "        #def AT_count(dna, sig_figs = 3):\n",
    "            #total_length = len(dna)\n",
    "            #A_count = dna.upper().count('A')\n",
    "            #T_count = dna.upper().count('T')\n",
    "            #AT_content = (A_count + T_count) / total_length\n",
    "            #return round(AT_content, sig_figs)"
   ]
  },
  {
   "cell_type": "code",
   "execution_count": null,
   "metadata": {
    "collapsed": true
   },
   "outputs": [],
   "source": []
  }
 ],
 "metadata": {
  "anaconda-cloud": {},
  "kernelspec": {
   "display_name": "Python [default]",
   "language": "python",
   "name": "python3"
  },
  "language_info": {
   "codemirror_mode": {
    "name": "ipython",
    "version": 3
   },
   "file_extension": ".py",
   "mimetype": "text/x-python",
   "name": "python",
   "nbconvert_exporter": "python",
   "pygments_lexer": "ipython3",
   "version": "3.5.2"
  }
 },
 "nbformat": 4,
 "nbformat_minor": 2
}
