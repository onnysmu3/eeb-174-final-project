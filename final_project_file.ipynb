{
 "cells": [
  {
   "cell_type": "markdown",
   "metadata": {},
   "source": [
    "# FINAL PROJECT - EEB C234\n",
    "# THE DISTRIBUTION OF GENUS NEOTRYGON AROUND THE WORLD BASED ON BOLDSYSTEM DATABASE"
   ]
  },
  {
   "cell_type": "markdown",
   "metadata": {
    "collapsed": false
   },
   "source": [
    "#I want to use 2 database, which are 1). list of the distribution area of Neotrygon kuhlii, 2). sequence database of N. kuhlii.\n",
    "#Both data come from BOLD System database: http://www.boldsystems.org/index.php/databases\n",
    "\n",
    "\n",
    "#In my presentation, I would like to give brief explanation about my datasets by using Markdown and Latex doc.\n",
    "#Then before I give some questions regarding my dataset, I would like to show my dataset to the audience in order to assure that the dataset is correct.\n",
    "#How will I do that?:\n",
    "    #1. I will open the dataset by using TextWrangler program and show how many lines exist in the dataset\n",
    "    #2. Then, I will use UNIX shell function \"wc -l\" to count the number of lines in the dataset\n",
    "    #3. Make sure that each answer is similar\n",
    "\n",
    "\n",
    "#for item in data1:\n",
    "    #QUESTIONS1:\n",
    "    #a. How many institution did store the species? Show the list of institutions.\n",
    "    #b. And how many speciments are stored in each instituion? Show the list of institutions\n",
    "    #c. Which institution stores the highest number of the species? an\n",
    "    #d. How many species are in the database? Show the list of species and the number of speciment record.\n",
    "    #e. Make a new .txt file called new_database.txt and save all information above on the new file\n",
    "    \n",
    "    #QUESTION2:\n",
    "    #By using iPython: make a dictionary which contains \"Species_name | Institution_storing | Country | Number of collection\"\n",
    "    \n",
    "    #QUESTION3:\n",
    "    #By using R studio, make a pie chart the distribution of species record stored in each institution.\n",
    "    \n",
    "    \n",
    "    \n",
    "    #ANSWERS:\n",
    "    #QUESTION1:\n",
    "    #first, open the file CP_NK_bold.txt\n",
    "    #then, use UNIX shell to figure out the answer by following some functions:\n",
    "        #1. cut -f 6 CP_NK_bold.txt | tail -n +2 | sort | uniq | wc -l (4 institutions)\n",
    "        #2. cut -f 6 CP_NK_bold.txt | tail -n +2 | sort | uniq  >> to show the list\n",
    "        #3. cut -f 6 CP_NK_bold.txt | tail -n +2 | sort | uniq -c >> to show the list\n",
    "        #4. >> CSIRO, Australian National Fish Collection - 40 speciments\n",
    "        #5. cut -f 21 CP_NK_bold.txt | tail -n +2 | sort | uniq | wc -l (7 species)\n",
    "        #6. cut -f 21 CP_NK_bold.txt | tail -n +2 | sort | uniq -c >> to show the list\n",
    "        #7. touch new_database.txt\n",
    "        #8. end up the information on the new file\n",
    "    \n",
    "    #QUESTION2:\n",
    "    #neotrygon = open(\"?????\")\n",
    "    #neotrygon.readline()\n",
    "    #neotrygon_dict = {}\n",
    "    #for line in neotrygon:\n",
    "        # species = line.split(\"?????\")[????]\n",
    "        #institution = line.split(\"??????\")[????]\n",
    "        #country = line.split (\"?????)[????]\n",
    "        #num_record = line.split(\"????\")[????]\n",
    "        #values = [institution, country, num_record]\n",
    "        #neotrygon_dict[species] = values\n",
    "    \n",
    "    #catataan: saya pengennya tu ngak setiap single data di record. yg saya mau adalah perwakilan setiap spesies dalam dictonary.\n",
    "    #Jadi nantinya dictionary-nya ngak membingungkan. dan tampilannya menarik.\n",
    "    \n",
    "    #QUESTION3: ???????? I have no idea\n",
    "        \n",
    "\n",
    "#for item2 in data2:\n",
    "    #QUESTIONS:\n",
    "    #1. How much is the percentage of AT_content in every single sequence?\n",
    "    #2. How much is the percentage of GC_content in every single sequence?\n",
    "    #3. How is the ratio of AT and GC content in every single sequence?\n",
    "    #4. Where is the species which has the highest AT_content from?\n",
    "    #5. Where is the species which has the highest AT_content from?\n",
    "\n",
    "#ANSWER:\n",
    "    #first, go to the directory called \"eeb-174-final-project\" on UNIX shell\n",
    "    #then go to jupyter notebook, and follow the instructions below:\n",
    "        #1. dataset2 = open(\"/home/eeb177-student/Desktop/eeb-177/eeb-174-final-project/CP_NK_bold_fasta.fas\")\n",
    "        #2. define a function:\n",
    "            #def AT_count(dna, sig_figs = 3):\n",
    "                #total_length = len(dna)\n",
    "                #A_count = dna.upper().count('A')\n",
    "                #T_count = dna.upper().count('T')\n",
    "                #AT_content = (A_count + T_count) / total_length\n",
    "                #return round(AT_content, sig_figs)\n",
    "                "
   ]
  },
  {
   "cell_type": "code",
   "execution_count": null,
   "metadata": {
    "collapsed": true
   },
   "outputs": [],
   "source": []
  }
 ],
 "metadata": {
  "anaconda-cloud": {},
  "kernelspec": {
   "display_name": "Python [default]",
   "language": "python",
   "name": "python3"
  },
  "language_info": {
   "codemirror_mode": {
    "name": "ipython",
    "version": 3
   },
   "file_extension": ".py",
   "mimetype": "text/x-python",
   "name": "python",
   "nbconvert_exporter": "python",
   "pygments_lexer": "ipython3",
   "version": "3.5.2"
  }
 },
 "nbformat": 4,
 "nbformat_minor": 2
}
