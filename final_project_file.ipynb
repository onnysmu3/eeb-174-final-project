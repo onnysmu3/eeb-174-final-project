{
 "cells": [
  {
   "cell_type": "markdown",
   "metadata": {},
   "source": [
    "# FINAL PROJECT - EEB C234\n",
    "# THE DISTRIBUTION OF NEOTRYGON KUHLII AROUND THE WORLD BASED ON BOLDSYSTEM DATABASE"
   ]
  },
  {
   "cell_type": "code",
   "execution_count": 2,
   "metadata": {
    "collapsed": false
   },
   "outputs": [
    {
     "ename": "IndentationError",
     "evalue": "unexpected indent (<ipython-input-2-2c718af258b6>, line 38)",
     "output_type": "error",
     "traceback": [
      "\u001b[0;36m  File \u001b[0;32m\"<ipython-input-2-2c718af258b6>\"\u001b[0;36m, line \u001b[0;32m38\u001b[0m\n\u001b[0;31m    def AT_count\u001b[0m\n\u001b[0m    ^\u001b[0m\n\u001b[0;31mIndentationError\u001b[0m\u001b[0;31m:\u001b[0m unexpected indent\n"
     ]
    }
   ],
   "source": [
    "#I want to use 2 database, which are 1). list of the distribution area of Neotrygon kuhlii, 2). sequence database of N. kuhlii.\n",
    "#Both data come from BOLD System database: http://www.boldsystems.org/index.php/databases\n",
    "\n",
    "\n",
    "#In my presentation, I would like to give brief explanation about my datasets by using Markdown and Latex doc.\n",
    "#Then before I give some questions regarding my dataset, I would like to show my dataset to the audience in order to assure that the dataset is correct.\n",
    "#How will I do that?:\n",
    "    #1. I will open the dataset by using TextWrangler program and show how many lines exist in the dataset\n",
    "    #2. Then, I will use UNIX shell function \"wc -l\" to count the number of lines in the dataset\n",
    "    #3. Make sure that each answer is similar\n",
    "\n",
    "\n",
    "#for item1 in data1:\n",
    "    #QUESTIONS:\n",
    "    #1. How many institution did store the species?\n",
    "    #2. Which institution stores the highest number of the species? And how many speciments are stored in the instituion?\n",
    "\n",
    "    #ANSWERS:\n",
    "    #first, open the file CP_NK_bold.txt\n",
    "    #then, use UNIX shell to figure out the answer by following some functions:\n",
    "        #1. cut -f 6 CP_NK_bold.txt | tail -n +2 | sort | uniq | wc -l (4 institutions)\n",
    "        #2. cut -f 6 CP_NK_bold.txt | tail -n +2 | sort | uniq -c (CSIRO, Australian National Fish Collection - 40 speciments)\n",
    "\n",
    "\n",
    "#for item2 in data2:\n",
    "    #QUESTIONS:\n",
    "    #1. How much is the percentage of AT_content in every single sequence?\n",
    "    #2. How much is the percentage of GC_content in every single sequence?\n",
    "    #3. How is the ratio of AT and GC content in every single sequence?\n",
    "    #4. Where is the species which has the highest AT_content from?\n",
    "    #5. Where is the species which has the highest AT_content from?\n",
    "\n",
    "#ANSWER:\n",
    "    #first, go to the directory called \"eeb-174-final-project\" on UNIX shell\n",
    "    #then go to jupyter notebook, and follow the instructions below:\n",
    "        #1. dataset2 = open(\"/home/eeb177-student/Desktop/eeb-177/eeb-174-final-project/CP_NK_bold_fasta.fas\")\n",
    "        #2. define a function:\n",
    "            def AT_count(dna, sig_figs = 3):\n",
    "                total_length = len(dna)\n",
    "                A_count = dna.upper().count('A')\n",
    "                T_count = dna.upper().count('T')\n",
    "                AT_content = (A_count + T_count) / total_length\n",
    "                return round(AT_content, sig_figs)\n",
    "                "
   ]
  },
  {
   "cell_type": "code",
   "execution_count": null,
   "metadata": {
    "collapsed": true
   },
   "outputs": [],
   "source": []
  }
 ],
 "metadata": {
  "anaconda-cloud": {},
  "kernelspec": {
   "display_name": "Python [default]",
   "language": "python",
   "name": "python3"
  },
  "language_info": {
   "codemirror_mode": {
    "name": "ipython",
    "version": 3
   },
   "file_extension": ".py",
   "mimetype": "text/x-python",
   "name": "python",
   "nbconvert_exporter": "python",
   "pygments_lexer": "ipython3",
   "version": "3.5.2"
  }
 },
 "nbformat": 4,
 "nbformat_minor": 2
}
